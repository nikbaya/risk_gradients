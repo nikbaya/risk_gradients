{
 "cells": [
  {
   "cell_type": "code",
   "execution_count": 1,
   "metadata": {},
   "outputs": [],
   "source": [
    "import hail as hl"
   ]
  },
  {
   "cell_type": "code",
   "execution_count": 5,
   "metadata": {},
   "outputs": [],
   "source": [
    "variant_set = 'qc_pos'\n",
    "mt0 = hl.read_matrix_table(f'gs://nbaya/split/ukb31063.{variant_set}_variants.gwas_samples_repart.mt')"
   ]
  },
  {
   "cell_type": "code",
   "execution_count": 6,
   "metadata": {},
   "outputs": [],
   "source": [
    "variants = mt0.rows()"
   ]
  },
  {
   "cell_type": "code",
   "execution_count": 8,
   "metadata": {},
   "outputs": [
    {
     "data": {
      "text/plain": [
       "13364303"
      ]
     },
     "execution_count": 8,
     "metadata": {},
     "output_type": "execute_result"
    }
   ],
   "source": [
    "variants.count()"
   ]
  },
  {
   "cell_type": "code",
   "execution_count": 9,
   "metadata": {},
   "outputs": [
    {
     "name": "stderr",
     "output_type": "stream",
     "text": [
      "2019-12-09 14:57:57 Hail: INFO: Number of BGEN files parsed: 22\n",
      "2019-12-09 14:57:57 Hail: INFO: Number of samples in BGEN files: 487409\n",
      "2019-12-09 14:57:57 Hail: INFO: Number of variants across all BGEN files: 93095623\n",
      "2019-12-09 15:00:10 Hail: INFO: Number of BGEN files parsed: 22\n",
      "2019-12-09 15:00:10 Hail: INFO: Number of samples in BGEN files: 487409\n",
      "2019-12-09 15:00:10 Hail: INFO: Number of variants across all BGEN files: 93095623\n"
     ]
    }
   ],
   "source": [
    "variants = mt0.rows()\n",
    "gt0 = hl.import_bgen(path='gs://fc-7d5088b4-7673-45b5-95c2-17ae00a04183/imputed/ukb_imp_chr'+str(set(range(1,23))).replace(' ','')+'_v3.bgen',\n",
    "                         entry_fields=['GT'],\n",
    "                         n_partitions = 1000,\n",
    "                         sample_file = 'gs://ukb31063/ukb31063.autosomes.sample',\n",
    "                         variants=variants)\n",
    "gt0 = hl.variant_qc(gt0)b"
   ]
  },
  {
   "cell_type": "code",
   "execution_count": 12,
   "metadata": {
    "scrolled": true
   },
   "outputs": [
    {
     "name": "stderr",
     "output_type": "stream",
     "text": [
      "2019-12-09 15:07:37 Hail: WARN: Found 1 duplicate column. Mangled columns follows:\n",
      "  'G' -> 'G_1'\n",
      "2019-12-09 15:07:37 Hail: INFO: Reading table with no type imputation\n",
      "  Loading column '10:60494_A_G' as type 'str' (type not specified)\n",
      "  Loading column 'rs568182971' as type 'str' (type not specified)\n",
      "  Loading column '60494' as type 'str' (type not specified)\n",
      "  Loading column 'A' as type 'str' (type not specified)\n",
      "  Loading column 'G' as type 'str' (type not specified)\n",
      "  Loading column '0.000583707' as type 'str' (type not specified)\n",
      "  Loading column 'G_1' as type 'str' (type not specified)\n",
      "  Loading column '0.710136' as type 'str' (type not specified)\n",
      "\n"
     ]
    }
   ],
   "source": [
    "tb = hl.import_table('gs://fc-7d5088b4-7673-45b5-95c2-17ae00a04183/imputed/ukb_mfi_chr*_v3.txt')"
   ]
  },
  {
   "cell_type": "code",
   "execution_count": 13,
   "metadata": {},
   "outputs": [
    {
     "name": "stderr",
     "output_type": "stream",
     "text": [
      "2019-12-09 15:10:06 Hail: INFO: Reading table with no type imputation\n",
      "  Loading column 'locus' as type 'str' (type not specified)\n",
      "  Loading column 'alleles' as type 'str' (type not specified)\n",
      "  Loading column 'varid' as type 'str' (type not specified)\n",
      "  Loading column 'rsid' as type 'str' (type not specified)\n",
      "  Loading column 'minor_allele' as type 'str' (type not specified)\n",
      "  Loading column 'maf' as type 'str' (type not specified)\n",
      "  Loading column 'info' as type 'str' (type not specified)\n",
      "\n"
     ]
    }
   ],
   "source": [
    "ht = hl.import_table('gs://nbaya/risk_gradients/ukb.maf_info.tsv.bgz',force_bgz=True)"
   ]
  },
  {
   "cell_type": "code",
   "execution_count": 14,
   "metadata": {},
   "outputs": [
    {
     "data": {
      "text/plain": [
       "97059328"
      ]
     },
     "execution_count": 14,
     "metadata": {},
     "output_type": "execute_result"
    }
   ],
   "source": [
    "ht.count()"
   ]
  },
  {
   "cell_type": "code",
   "execution_count": 15,
   "metadata": {},
   "outputs": [
    {
     "name": "stderr",
     "output_type": "stream",
     "text": [
      "2019-12-09 15:12:25 Hail: INFO: Reading table to impute column types\n",
      "2019-12-09 15:13:01 Hail: INFO: Finished type imputation\n",
      "  Loading column 'locus' as type 'str' (imputed)\n",
      "  Loading column 'alleles' as type 'str' (imputed)\n",
      "  Loading column 'varid' as type 'str' (imputed)\n",
      "  Loading column 'rsid' as type 'str' (imputed)\n",
      "  Loading column 'minor_allele' as type 'str' (imputed)\n",
      "  Loading column 'maf' as type 'float64' (imputed)\n",
      "  Loading column 'info' as type 'float64' (imputed)\n"
     ]
    }
   ],
   "source": [
    "ht1 = hl.import_table('gs://nbaya/risk_gradients/ukb.maf_info.tsv.bgz',force_bgz=True,impute=True)"
   ]
  },
  {
   "cell_type": "code",
   "execution_count": 10,
   "metadata": {},
   "outputs": [
    {
     "name": "stdout",
     "output_type": "stream",
     "text": [
      "----------------------------------------\n",
      "Global fields:\n",
      "    None\n",
      "----------------------------------------\n",
      "Column fields:\n",
      "    's': str\n",
      "----------------------------------------\n",
      "Row fields:\n",
      "    'locus': locus<GRCh37>\n",
      "    'alleles': array<str>\n",
      "    'rsid': str\n",
      "    'varid': str\n",
      "----------------------------------------\n",
      "Entry fields:\n",
      "    'GT': call\n",
      "----------------------------------------\n",
      "Column key: ['s']\n",
      "Row key: ['locus', 'alleles']\n",
      "----------------------------------------\n"
     ]
    }
   ],
   "source": [
    "gt0.describe()"
   ]
  }
 ],
 "metadata": {
  "kernelspec": {
   "display_name": "Hail",
   "language": "python",
   "name": "hail"
  },
  "language_info": {
   "codemirror_mode": {
    "name": "ipython",
    "version": 3
   },
   "file_extension": ".py",
   "mimetype": "text/x-python",
   "name": "python",
   "nbconvert_exporter": "python",
   "pygments_lexer": "ipython3",
   "version": "3.6.9"
  }
 },
 "nbformat": 4,
 "nbformat_minor": 2
}